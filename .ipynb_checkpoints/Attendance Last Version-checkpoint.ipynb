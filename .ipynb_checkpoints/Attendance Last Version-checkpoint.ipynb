{
 "cells": [
  {
   "cell_type": "code",
   "execution_count": 111,
   "metadata": {},
   "outputs": [],
   "source": [
    "import xlrd\n",
    "wb=xlrd.open_workbook('MYFILES/Attendees-1.xls')\n",
    "sheet=wb.sheet_by_index(0)"
   ]
  },
  {
   "cell_type": "code",
   "execution_count": 112,
   "metadata": {},
   "outputs": [],
   "source": [
    "outptr=open('MYFILES/Output.csv','a')\n",
    "notptr=open('MYFILES/notConsidered.csv','a')\n",
    "#outptr.write('REGD NO'+','+'TIME IN MINUTES'+'\\n')\n",
    "#notptr.write('REGD NO'+','+'TIME IN MINUTES'+'\\n')"
   ]
  },
  {
   "cell_type": "code",
   "execution_count": 113,
   "metadata": {},
   "outputs": [],
   "source": [
    "for student in range(0,171):\n",
    "    time=sheet.row_values(student)[4]\n",
    "    if '-' in sheet.row_values(student)[0]:\n",
    "        regdno=sheet.row_values(student)[0].split('-')[0]\n",
    "        outptr.write(regdno+','+time+'\\n')\n",
    "    else:\n",
    "        regdno=sheet.row_values(student)[0]\n",
    "        notptr.write(regdno+','+time+'\\n')"
   ]
  },
  {
   "cell_type": "code",
   "execution_count": 137,
   "metadata": {},
   "outputs": [],
   "source": [
    "outptr=open('MYFILES/Output.csv','r')\n",
    "mixed=open('MYFILES/mixed.csv','a')\n",
    "regdnoDict=dict()\n",
    "slist=outptr.readlines()\n",
    "for student in slist:\n",
    "    studentDetails=student.split(',')\n",
    "    studentDetails[1]=studentDetails[1].replace('\\n','')\n",
    "    if studentDetails[0] not in regdnoDict.keys():\n",
    "        regdnoDict[studentDetails[0]]=studentDetails[1]\n",
    "    else:\n",
    "        regdnoDict[studentDetails[0]]=str(int(regdnoDict.get(studentDetails[0]))+int(studentDetails[1]))\n",
    "for regdno in regdnoDict.keys():\n",
    "    mixed.write(regdno+','+regdnoDict.get(regdno)+'\\n')\n"
   ]
  },
  {
   "cell_type": "code",
   "execution_count": 139,
   "metadata": {},
   "outputs": [],
   "source": [
    "finalptr=open('MYFILES/final.csv','a')\n",
    "mixedptr=open('MYFILES/mixed.csv','r')\n",
    "slist=mixedptr.readlines()\n",
    "\n",
    "for student in slist:\n",
    "    studentDetails=student.split(',')\n",
    "    studentDetails[1]=studentDetails[1].replace('\\n','')\n",
    "    if(int(studentDetails[1])>=70):\n",
    "        finalptr.write(studentDetails[0]+','+\"PRESENT\"+'\\n')\n",
    "    else:\n",
    "        finalptr.write(studentDetails[0]+','+\"ABSENT\"+'\\n')"
   ]
  },
  {
   "cell_type": "code",
   "execution_count": null,
   "metadata": {},
   "outputs": [],
   "source": []
  }
 ],
 "metadata": {
  "kernelspec": {
   "display_name": "Python 3",
   "language": "python",
   "name": "python3"
  },
  "language_info": {
   "codemirror_mode": {
    "name": "ipython",
    "version": 3
   },
   "file_extension": ".py",
   "mimetype": "text/x-python",
   "name": "python",
   "nbconvert_exporter": "python",
   "pygments_lexer": "ipython3",
   "version": "3.8.5"
  }
 },
 "nbformat": 4,
 "nbformat_minor": 4
}
