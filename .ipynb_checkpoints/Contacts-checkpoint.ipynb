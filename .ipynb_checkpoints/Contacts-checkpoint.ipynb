{
 "cells": [
  {
   "cell_type": "code",
   "execution_count": null,
   "metadata": {},
   "outputs": [],
   "source": [
    "contacts=dict()\n",
    "contacts['ravi']=9090909090"
   ]
  },
  {
   "cell_type": "code",
   "execution_count": null,
   "metadata": {},
   "outputs": [],
   "source": [
    "while(True):\n",
    "    print(\"Enter your option : \")\n",
    "    print(\"1\\tINSERT\\n2\\tDISPLAY\\n3\\tUPDATE\\n4\\tDELETE\\n0\\tCLOSE Contacts Book\")\n",
    "    opt=int(input())\n",
    "    if(opt==1):\n",
    "        name=input(\"Enter the name to add to Contacts Book:\")\n",
    "        if name in contacts:\n",
    "            print(name,\"already exists\")\n",
    "        else:\n",
    "            contacts[name]=input(\"Enter the mobile number:\")\n",
    "    elif(opt==2):\n",
    "        for i in contacts.keys():\n",
    "            print(i,\"   \",contacts[i])\n",
    "    elif(opt==3):\n",
    "        name=input(\"Enter name to update:\")\n",
    "        if name in contacts:\n",
    "            contacts[name]=input(\"Enter the mobile number\")\n",
    "        else:\n",
    "            print(name,\"doesn't exists in Contacts\")\n",
    "    elif(opt==4):\n",
    "        name=input(\"Enter name to delete:\")\n",
    "        if name in contacts:\n",
    "            contacts.pop(name)\n",
    "        else:\n",
    "            print(name,\"doesn't exists in Contacts\")\n",
    "    elif(opt==0):\n",
    "        break\n",
    "\n"
   ]
  }
 ],
 "metadata": {
  "kernelspec": {
   "display_name": "Python 3",
   "language": "python",
   "name": "python3"
  },
  "language_info": {
   "codemirror_mode": {
    "name": "ipython",
    "version": 3
   },
   "file_extension": ".py",
   "mimetype": "text/x-python",
   "name": "python",
   "nbconvert_exporter": "python",
   "pygments_lexer": "ipython3",
   "version": "3.8.5"
  }
 },
 "nbformat": 4,
 "nbformat_minor": 4
}
