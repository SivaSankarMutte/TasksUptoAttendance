{
 "cells": [
  {
   "cell_type": "code",
   "execution_count": 5,
   "metadata": {},
   "outputs": [],
   "source": [
    "fileptr=open('MYFILES/attendance.csv','r')\n",
    "lines=fileptr.readlines()\n",
    "outptr=open('MYFILES/Output.csv','a')\n",
    "notptr=open('MYFILES/notConsidered.csv','w')\n",
    "for eachline in lines:\n",
    "    slist=eachline.split(',')\n",
    "    if '-' in slist[0]:\n",
    "        regdno=slist[0].split('-')[0]\n",
    "        time=slist[4]\n",
    "        outptr.write(regdno+','+time)\n",
    "    else:\n",
    "        name=slist[0].split('-')[0]\n",
    "        time=slist[4]\n",
    "        notptr.write(name+','+time)        "
   ]
  },
  {
   "cell_type": "code",
   "execution_count": 6,
   "metadata": {},
   "outputs": [],
   "source": [
    "finalptr=open('MYFILES/final.csv','a')\n",
    "outptr=open('MYFILES/Output.csv','r')\n",
    "slist=outptr.readlines()\n",
    "\n",
    "for student in slist:\n",
    "    studentDetails=student.split(',')\n",
    "    studentDetails[1]=studentDetails[1].replace('\\n','')\n",
    "    if(int(studentDetails[1])>=70):\n",
    "        finalptr.write(studentDetails[0]+','+\"Present\"+'\\n')\n",
    "    else:\n",
    "        finalptr.write(studentDetails[0]+','+\"ABSENT\"+'\\n')"
   ]
  },
  {
   "cell_type": "code",
   "execution_count": null,
   "metadata": {},
   "outputs": [],
   "source": []
  }
 ],
 "metadata": {
  "kernelspec": {
   "display_name": "Python 3",
   "language": "python",
   "name": "python3"
  },
  "language_info": {
   "codemirror_mode": {
    "name": "ipython",
    "version": 3
   },
   "file_extension": ".py",
   "mimetype": "text/x-python",
   "name": "python",
   "nbconvert_exporter": "python",
   "pygments_lexer": "ipython3",
   "version": "3.8.5"
  }
 },
 "nbformat": 4,
 "nbformat_minor": 4
}
