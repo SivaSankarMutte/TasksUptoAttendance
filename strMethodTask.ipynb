{
 "cells": [
  {
   "cell_type": "code",
   "execution_count": 3,
   "metadata": {},
   "outputs": [
    {
     "name": "stdout",
     "output_type": "stream",
     "text": [
      "Y18ACS$%*511\n",
      "Given string is: Y18ACS$%*511\n",
      "Alphabets in dfghj456789876#$%^& : d f g h j \n",
      "Numbers in dfghj456789876#$%^& : 4 5 6 7 8 9 8 7 6 \n",
      "Special characters in dfghj456789876#$%^& : # $ % ^ & \n"
     ]
    }
   ],
   "source": [
    "i=input()\n",
    "alp=''\n",
    "sym=''\n",
    "num=''\n",
    "print(\"Given string is:\",i)\n",
    "for i in s:\n",
    "    if(i.isalpha()):\n",
    "        alp+=i+\" \"\n",
    "    elif(i.isalnum()):\n",
    "        num+=i+\" \"\n",
    "    else:\n",
    "        sym+=i+\" \"\n",
    "print(\"Alphabets in\",s,\":\",alp)\n",
    "print(\"Numbers in\",s,\":\",num)\n",
    "print(\"Special characters in\",s,\":\",sym)"
   ]
  },
  {
   "cell_type": "code",
   "execution_count": null,
   "metadata": {},
   "outputs": [],
   "source": []
  }
 ],
 "metadata": {
  "kernelspec": {
   "display_name": "Python 3",
   "language": "python",
   "name": "python3"
  },
  "language_info": {
   "codemirror_mode": {
    "name": "ipython",
    "version": 3
   },
   "file_extension": ".py",
   "mimetype": "text/x-python",
   "name": "python",
   "nbconvert_exporter": "python",
   "pygments_lexer": "ipython3",
   "version": "3.8.5"
  }
 },
 "nbformat": 4,
 "nbformat_minor": 4
}
